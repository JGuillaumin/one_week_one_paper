{
 "cells": [
  {
   "cell_type": "code",
   "execution_count": 1,
   "metadata": {},
   "outputs": [],
   "source": [
    "import tensorflow as tf\n",
    "import numpy as np\n",
    "\n",
    "import matplotlib.pyplot as plt\n",
    "%matplotlib inline"
   ]
  },
  {
   "cell_type": "code",
   "execution_count": 2,
   "metadata": {},
   "outputs": [],
   "source": [
    "from drop_activation import drop_activation"
   ]
  },
  {
   "cell_type": "code",
   "execution_count": 3,
   "metadata": {},
   "outputs": [],
   "source": [
    "log_dir = 'logs/'\n",
    "if tf.gfile.IsDirectory(log_dir):\n",
    "    tf.gfile.DeleteRecursively(log_dir)\n",
    "tf.gfile.MakeDirs(log_dir)"
   ]
  },
  {
   "cell_type": "code",
   "execution_count": 4,
   "metadata": {},
   "outputs": [],
   "source": [
    "sess = tf.InteractiveSession()"
   ]
  },
  {
   "cell_type": "code",
   "execution_count": 5,
   "metadata": {},
   "outputs": [],
   "source": [
    "input_tf = tf.placeholder(shape=[50, 50], dtype=tf.float32, name='input')\n",
    "is_training = tf.placeholder(shape=[], dtype=tf.bool, name='is_training')"
   ]
  },
  {
   "cell_type": "code",
   "execution_count": 6,
   "metadata": {},
   "outputs": [],
   "source": [
    "output_tf = drop_activation(inputs=input_tf, p=0.95, training=is_training)"
   ]
  },
  {
   "cell_type": "code",
   "execution_count": 7,
   "metadata": {},
   "outputs": [],
   "source": [
    "writer = tf.summary.FileWriter(log_dir, graph=sess.graph)\n",
    "writer.close()"
   ]
  },
  {
   "cell_type": "code",
   "execution_count": 10,
   "metadata": {},
   "outputs": [
    {
     "data": {
      "text/plain": [
       "<matplotlib.image.AxesImage at 0x7fd2d42d0668>"
      ]
     },
     "execution_count": 10,
     "metadata": {},
     "output_type": "execute_result"
    },
    {
     "data": {
      "image/png": "[encoded data removed]",
      "text/plain": [
       "<Figure size 432x288 with 2 Axes>"
      ]
     },
     "metadata": {
      "needs_background": "light"
     },
     "output_type": "display_data"
    }
   ],
   "source": [
    "input_np = np.ones(shape=[50, 50], dtype=np.float32)\n",
    "feed_dict = {input_tf: input_np,\n",
    "             is_training: True}\n",
    "output_np = sess.run(output_tf, feed_dict=feed_dict)\n",
    "\n",
    "\n",
    "plt.subplot(121)\n",
    "plt.imshow(input_np, cmap='gray', vmin=-2, vmax=2)\n",
    "plt.subplot(122)\n",
    "plt.imshow(output_np, cmap='gray', vmin=-2, vmax=2)"
   ]
  },
  {
   "cell_type": "code",
   "execution_count": 11,
   "metadata": {},
   "outputs": [
    {
     "data": {
      "text/plain": [
       "<matplotlib.image.AxesImage at 0x7fd2d435a160>"
      ]
     },
     "execution_count": 11,
     "metadata": {},
     "output_type": "execute_result"
    },
    {
     "data": {
      "image/png": "[encoded data removed]",
      "text/plain": [
       "<Figure size 432x288 with 2 Axes>"
      ]
     },
     "metadata": {
      "needs_background": "light"
     },
     "output_type": "display_data"
    }
   ],
   "source": [
    "input_np = - np.ones(shape=[50, 50], dtype=np.float32)\n",
    "feed_dict = {input_tf: input_np,\n",
    "             is_training: True}\n",
    "output_np = sess.run(output_tf, feed_dict=feed_dict)\n",
    "\n",
    "\n",
    "plt.subplot(121)\n",
    "plt.imshow(input_np, cmap='gray', vmin=-2, vmax=2)\n",
    "plt.subplot(122)\n",
    "plt.imshow(output_np, cmap='gray', vmin=-2, vmax=2)\n",
    "# in TRAINING mode ~95% pixel follow the relu (pixels set to 0)\n",
    "# only ~5% of pixels follow identity mapping"
   ]
  },
  {
   "cell_type": "code",
   "execution_count": 13,
   "metadata": {},
   "outputs": [
    {
     "name": "stdout",
     "output_type": "stream",
     "text": [
      "-0.050000004\n"
     ]
    },
    {
     "data": {
      "image/png": "[encoded data removed]",
      "text/plain": [
       "<Figure size 432x288 with 2 Axes>"
      ]
     },
     "metadata": {
      "needs_background": "light"
     },
     "output_type": "display_data"
    }
   ],
   "source": [
    "input_np = - np.ones(shape=[50, 50], dtype=np.float32)\n",
    "feed_dict = {input_tf: input_np,\n",
    "             is_training: False}\n",
    "output_np = sess.run(output_tf, feed_dict=feed_dict)\n",
    "\n",
    "\n",
    "plt.subplot(121)\n",
    "plt.imshow(input_np, cmap='gray', vmin=-2, vmax=2)\n",
    "plt.subplot(122)\n",
    "plt.imshow(output_np, cmap='gray', vmin=-2, vmax=2)\n",
    "# in TESTING mode 100% of pixel follow a Leaky ReLU activation with slope 1 - p \n",
    "\n",
    "print(output_np.mean())"
   ]
  },
  {
   "cell_type": "code",
   "execution_count": null,
   "metadata": {},
   "outputs": [],
   "source": [
    "\n"
   ]
  }
 ],
 "metadata": {
  "kernelspec": {
   "display_name": "Python 3",
   "language": "python",
   "name": "python3"
  },
  "language_info": {
   "codemirror_mode": {
    "name": "ipython",
    "version": 3
   },
   "file_extension": ".py",
   "mimetype": "text/x-python",
   "name": "python",
   "nbconvert_exporter": "python",
   "pygments_lexer": "ipython3",
   "version": "3.5.5"
  }
 },
 "nbformat": 4,
 "nbformat_minor": 2
}
